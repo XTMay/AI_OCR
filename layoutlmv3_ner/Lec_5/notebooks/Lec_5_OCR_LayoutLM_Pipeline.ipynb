{
 "cells": [
  {
   "cell_type": "markdown",
   "id": "4c9e07b2",
   "metadata": {},
   "source": [
    "# OCR + LayoutLM Pipeline"
   ]
  },
  {
   "cell_type": "markdown",
   "id": "1b2fcc5b",
   "metadata": {},
   "source": [
    "# 中英文发票OCR处理完整教学指南\n",
    "## 教学目标\n",
    "本教程将详细介绍如何构建一个完整的中英文发票信息提取系统，包括：\n",
    "\n",
    "- PaddleOCR + LayoutLMv3 的完整pipeline\n",
    "- 数据标注和预处理技巧\n",
    "- 模型微调策略\n",
    "- Label Studio集成\n",
    "- 性能优化和问题诊断"
   ]
  },
  {
   "cell_type": "markdown",
   "id": "dca79c69",
   "metadata": {},
   "source": [
    "## 系统架构概览\n",
    "\n",
    "## 发票信息抽取流程\n",
    "\n",
    "```mermaid\n",
    "发票PDF → PDF转图像 → PaddleOCR文本提取 → LayoutLMv3结构化 → JSON输出  \n",
    "    ↓           ↓              ↓               ↓  \n",
    "  输入层      预处理层        OCR层          NER层\n",
    "```"
   ]
  },
  {
   "cell_type": "markdown",
   "id": "488e8b60",
   "metadata": {},
   "source": [
    "## 第一步：环境准备和依赖安装"
   ]
  },
  {
   "cell_type": "markdown",
   "id": "9a98a450",
   "metadata": {},
   "source": [
    "### 1.1 创建项目结构"
   ]
  },
  {
   "cell_type": "code",
   "execution_count": 5,
   "id": "3d9d1264",
   "metadata": {},
   "outputs": [],
   "source": [
    "!cd /Users/xiaotingzhou/Documents/Lectures/AI_OCR/layoutlmv3_ner/Lec_5\n",
    "!mkdir -p data/{raw,processed,training,validation} models/{checkpoints,final} src notebooks configs scripts"
   ]
  },
  {
   "cell_type": "markdown",
   "id": "b1e75c67",
   "metadata": {},
   "source": [
    "```mermaid\n",
    "layoutlmv3_ner/Lec_5/\n",
    "├── data/\n",
    "│   ├── raw/                    # 原始PDF文件\n",
    "│   ├── processed/              # 处理后的图像\n",
    "│   ├── training/               # 训练数据\n",
    "│   └── validation/             # 验证数据\n",
    "├── models/\n",
    "│   ├── checkpoints/            # 训练检查点\n",
    "│   └── final/                  # 最终模型\n",
    "├── src/\n",
    "│   ├── data_processor.py       # 数据处理\n",
    "│   ├── ocr_engine.py          # OCR引擎\n",
    "│   ├── layoutlm_trainer.py    # LayoutLM训练\n",
    "│   └── inference_pipeline.py  # 推理管道\n",
    "├── notebooks/\n",
    "│   └── Lec_5_OCR_LayoutLM_Pipeline.ipynb\n",
    "├── configs/\n",
    "│   ├── model_config.yaml      # 模型配置\n",
    "│   └── training_config.yaml   # 训练配置\n",
    "├── scripts/\n",
    "│   ├── train.py               # 训练脚本\n",
    "│   ├── inference.py           # 推理脚本\n",
    "│   └── evaluate.py            # 评估脚本\n",
    "└── requirements.txt\n",
    "```"
   ]
  },
  {
   "cell_type": "markdown",
   "id": "344273ce",
   "metadata": {},
   "source": [
    "### 1.2 核心组件\n",
    "- 1. 数据预处理器 ( InvoiceDataProcessor )\n",
    "- 2. LayoutLMv3训练器 ( LayoutLMv3Trainer )\n",
    "- 3. 推理管道 ( InvoiceInferencePipeline )\n",
    "- 4. 评估模块 ( ModelEvaluator )"
   ]
  },
  {
   "cell_type": "markdown",
   "id": "8236b1b7",
   "metadata": {},
   "source": [
    "## 第二部分：环境配置与依赖安装\n",
    "### 2.1 创建完整的requirements.txt"
   ]
  },
  {
   "cell_type": "markdown",
   "id": "6cfeac5c",
   "metadata": {},
   "source": [
    "### 2.2 安装命令"
   ]
  },
  {
   "cell_type": "code",
   "execution_count": null,
   "id": "b26eb7ca",
   "metadata": {},
   "outputs": [],
   "source": [
    "# 创建虚拟环境\n",
    "# python -m venv invoice_ocr_env\n",
    "# source invoice_ocr_env/bin/activate  # macOS/Linux\n",
    "# # 或 invoice_ocr_env\\Scripts\\activate  # Windows\n",
    "\n",
    "# # 安装依赖\n",
    "# # Update pip first\n",
    "# !pip install --upgrade pip\n",
    "\n",
    "# # Install the corrected requirements\n",
    "# !pip install -r /Users/xiaotingzhou/Documents/Lectures/AI_OCR/layoutlmv3_ner/Lec_5/requirements.txt\n",
    "\n",
    "# # Or install pdf2image specifically with the correct version\n",
    "# !pip install pdf2image==1.17.0\n",
    "\n",
    "# # 安装Label Studio\n",
    "# !pip install label-studio"
   ]
  },
  {
   "cell_type": "markdown",
   "id": "6f0869e7",
   "metadata": {},
   "source": [
    "## 第三部分：数据准备与标注\n",
    "### 3.1 数据收集策略 \n",
    "\n",
    "#### 3.1.1 发票类型多样性"
   ]
  },
  {
   "cell_type": "markdown",
   "id": "d5846f4f",
   "metadata": {},
   "source": [
    "-  data_collection_strategy.py"
   ]
  },
  {
   "cell_type": "markdown",
   "id": "72687d8b",
   "metadata": {},
   "source": [
    "### 3.2 Label Studio集成 \n",
    "#### 3.2.1 Label Studio配置"
   ]
  },
  {
   "cell_type": "markdown",
   "id": "3f47998a",
   "metadata": {},
   "source": [
    "- label_studio_config.xml"
   ]
  },
  {
   "cell_type": "markdown",
   "id": "99542463",
   "metadata": {},
   "source": [
    "#### 3.2.2 Label Studio数据导出脚本"
   ]
  },
  {
   "cell_type": "markdown",
   "id": "84facc25",
   "metadata": {},
   "source": [
    "- label_studio_integration.py "
   ]
  },
  {
   "cell_type": "markdown",
   "id": "fad9312b",
   "metadata": {},
   "source": [
    "### 3.3 数据质量控制 \n",
    "#### 3.3.1 标注质量检查"
   ]
  },
  {
   "cell_type": "markdown",
   "id": "3f73223f",
   "metadata": {},
   "source": [
    "- label_studio_integration.py"
   ]
  },
  {
   "cell_type": "markdown",
   "id": "836dbcea",
   "metadata": {},
   "source": [
    "-- 300笔  - OCR （text， bbox）json (invoice: bbox_invoice, date: bbox_date) 没有标注\n",
    "\n",
    "-- # TODO: 500: 100 type_1, 150 type_2, 250 type_3\n",
    "-- Rule, type--> （text， bbox）\n",
    "\n",
    "- Unsupervised Learning, k-mean? k-cluster\n",
    "\n",
    "- TODO: Dunt label: pdf_1 convert OCR output: pdf_1"
   ]
  },
  {
   "cell_type": "markdown",
   "id": "37aa5b55",
   "metadata": {},
   "source": [
    "## 第四部分：模型训练与微调\n",
    "### 4.1 数据增强策略 \n",
    "#### 4.1.1 图像增强"
   ]
  },
  {
   "cell_type": "markdown",
   "id": "46027fe6",
   "metadata": {},
   "source": [
    "- advanced_data_augmentation.py"
   ]
  },
  {
   "cell_type": "markdown",
   "id": "4949b262",
   "metadata": {},
   "source": [
    "### 4.2 微调策略详解 \n",
    "#### 4.2.1 渐进式训练\n"
   ]
  },
  {
   "cell_type": "markdown",
   "id": "4891c132",
   "metadata": {},
   "source": [
    "- progressive_training.py"
   ]
  },
  {
   "cell_type": "markdown",
   "id": "744ec156",
   "metadata": {},
   "source": [
    "#### 4.2.2 学习率调度策略"
   ]
  },
  {
   "cell_type": "markdown",
   "id": "457a6110",
   "metadata": {},
   "source": [
    "- learning_rate_scheduler.py"
   ]
  },
  {
   "cell_type": "markdown",
   "id": "e41eb47d",
   "metadata": {},
   "source": [
    "## 第五部分：性能监控与优化\n",
    "### 5.1 训练监控系统"
   ]
  },
  {
   "cell_type": "markdown",
   "id": "69af70da",
   "metadata": {},
   "source": [
    "- training_monitor.py"
   ]
  },
  {
   "cell_type": "markdown",
   "id": "d3cb369e",
   "metadata": {},
   "source": [
    "### 5.2 性能问题诊断 \n",
    "#### 5.2.1 常见问题及解决方案"
   ]
  },
  {
   "cell_type": "markdown",
   "id": "d06d2962",
   "metadata": {},
   "source": [
    "- performance_diagnostics.py"
   ]
  },
  {
   "cell_type": "markdown",
   "id": "65ccb2e0",
   "metadata": {},
   "source": [
    "## 第六部分：完整训练流程演示\n",
    "### 6.1 演示脚本"
   ]
  },
  {
   "cell_type": "code",
   "execution_count": null,
   "id": "0349d6ae",
   "metadata": {},
   "outputs": [],
   "source": [
    "# # 安装Label Studio\n",
    "# pip install label-studio\n",
    "\n",
    "# # 启动服务\n",
    "# label-studio start --port 8080"
   ]
  },
  {
   "cell_type": "code",
   "execution_count": null,
   "id": "c3ba85c4",
   "metadata": {},
   "outputs": [],
   "source": [
    "# # 1. 确保环境配置正确\n",
    "# python --version  # 应该是3.12\n",
    "\n",
    "# # 2. 安装依赖\n",
    "# pip install -r requirements.txt\n",
    "\n",
    "# # 3. 运行训练流水线\n",
    "# python train_pipeline.py\n",
    "\n",
    "# # 4. 查看训练日志\n",
    "# tail -f logs/training.log"
   ]
  },
  {
   "cell_type": "code",
   "execution_count": null,
   "id": "cd001bce",
   "metadata": {},
   "outputs": [],
   "source": [
    "# # 运行推理演示\n",
    "# python inference_demo.py\n",
    "\n",
    "# # 批量处理\n",
    "# python batch_inference.py --input_dir data/test_invoices --output_dir results/"
   ]
  },
  {
   "cell_type": "markdown",
   "id": "0353926a",
   "metadata": {},
   "source": [
    "## 7. 核心代码实现\n",
    "### 7.1 优化的数据处理器"
   ]
  },
  {
   "cell_type": "markdown",
   "id": "466d6393",
   "metadata": {},
   "source": [
    "- data_processor.py"
   ]
  },
  {
   "cell_type": "markdown",
   "id": "d8605ef6",
   "metadata": {},
   "source": [
    "### 7.2 增强的推理管道"
   ]
  },
  {
   "cell_type": "markdown",
   "id": "c8a032d4",
   "metadata": {},
   "source": [
    "- inference_pipeline.py"
   ]
  },
  {
   "cell_type": "markdown",
   "id": "6d2b0cde",
   "metadata": {},
   "source": [
    "## 8. 微调技术和策略\n",
    "### 8.1 中英文混合训练策略"
   ]
  },
  {
   "cell_type": "markdown",
   "id": "3981c834",
   "metadata": {},
   "source": [
    "- multilingual_trainer.py"
   ]
  },
  {
   "cell_type": "markdown",
   "id": "ddf79d12",
   "metadata": {},
   "source": [
    "## 9. 性能优化和评估\n",
    "### 9.1 模型评估指标"
   ]
  },
  {
   "cell_type": "markdown",
   "id": "afdcbd9f",
   "metadata": {},
   "source": [
    "- model_evaluator.py"
   ]
  },
  {
   "cell_type": "markdown",
   "id": "b0dec53d",
   "metadata": {},
   "source": [
    "## 10. 性能问题分析和解决方案\n",
    "### 10.1 常见性能问题\n",
    "- 1. OCR识别错误\n",
    "   - 原因：图像质量差、字体特殊、倾斜等\n",
    "   - 解决：提高PDF转换DPI、图像预处理、多OCR引擎融合\n",
    "\n",
    "- 2. 实体边界识别错误\n",
    "   - 原因：训练数据不足、标注不一致\n",
    "   - 解决：增加训练数据、改进标注策略、使用CRF层\n",
    "\n",
    "- 3. 多语言混合识别困难\n",
    "   - 原因：中英文切换、字符编码问题\n",
    "   - 解决：使用多语言预训练模型、字符级tokenization\n",
    "\n",
    "### 10.2 优化建议"
   ]
  },
  {
   "cell_type": "markdown",
   "id": "b319df15",
   "metadata": {},
   "source": [
    "- optimization_strategies.py"
   ]
  },
  {
   "cell_type": "markdown",
   "id": "7766de64",
   "metadata": {},
   "source": [
    "## 11. 部署和监控\n",
    "### 11.1 API服务部署"
   ]
  },
  {
   "cell_type": "markdown",
   "id": "7a0a197f",
   "metadata": {},
   "source": [
    "- api_server.py"
   ]
  },
  {
   "cell_type": "markdown",
   "id": "680a6a67",
   "metadata": {},
   "source": [
    "### 11.2 性能监控"
   ]
  },
  {
   "cell_type": "markdown",
   "id": "0bc5a746",
   "metadata": {},
   "source": [
    "- monitoring.py"
   ]
  },
  {
   "cell_type": "markdown",
   "id": "8562d07a",
   "metadata": {},
   "source": []
  }
 ],
 "metadata": {
  "kernelspec": {
   "display_name": "base",
   "language": "python",
   "name": "python3"
  },
  "language_info": {
   "codemirror_mode": {
    "name": "ipython",
    "version": 3
   },
   "file_extension": ".py",
   "mimetype": "text/x-python",
   "name": "python",
   "nbconvert_exporter": "python",
   "pygments_lexer": "ipython3",
   "version": "3.11.11"
  }
 },
 "nbformat": 4,
 "nbformat_minor": 5
}
