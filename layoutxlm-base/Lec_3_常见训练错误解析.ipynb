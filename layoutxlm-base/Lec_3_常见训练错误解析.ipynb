{
 "cells": [
  {
   "cell_type": "markdown",
   "id": "1beccd83",
   "metadata": {},
   "source": [
    "# 📘 发票信息提取模型常见训练错误全解析（Donut / LayoutLMv3 / OCR Prompt）"
   ]
  },
  {
   "cell_type": "markdown",
   "id": "460caa5a",
   "metadata": {},
   "source": [
    "## 🎯 模型目标输出样式（结构化 JSON）\n",
    "\n",
    "```json\n",
    "{\n",
    "  \"InvoiceNo\": \"Y 309824263008\",\n",
    "  \"InvoiceDate\": \"2025年6月30日\",\n",
    "  \"Currency\": \"USD\",\n",
    "  \"Amount with Tax\": \"300\",\n",
    "  \"Amount without Tax\": \"300\",\n",
    "  \"Tax\": \"0\"\n",
    "}"
   ]
  },
  {
   "cell_type": "markdown",
   "id": "204f5c3b",
   "metadata": {},
   "source": [
    "### 🔶 模型一：Donut（无 OCR、多模态 Encoder-Decoder）\n",
    "\n",
    "#### ✅ 关键点\n",
    "\n",
    "- 输入：图像 → pixel_values（Tensor）\n",
    "- 输出：结构化 JSON 序列\n",
    "- 无需 OCR、word box 坐标"
   ]
  },
  {
   "cell_type": "markdown",
   "id": "9eaedd31",
   "metadata": {},
   "source": [
    "#### ❌ 常见错误与解决方案（训练阶段）"
   ]
  },
  {
   "cell_type": "markdown",
   "id": "386d5dfe",
   "metadata": {},
   "source": [
    "| 错误信息                                      | 错误类型     | 可能原因                                | 解决方案                                                                 |\n",
    "|---------------------------------------------|------------|-----------------------------------------|--------------------------------------------------------------------------|\n",
    "| `decoder_start_token_id not set`            | 配置缺失     | 未设置生成起始 token                    | 加：`model.config.decoder_start_token_id = processor.tokenizer.convert_tokens_to_ids([\"<s>\"])[0]` |\n",
    "| `pad_token_id missing`                      | 配置缺失     | 未设置 padding token                    | 加：`model.config.pad_token_id = processor.tokenizer.pad_token_id`      |\n",
    "| `pixel_values 应为 Tensor，而不是 list`     | 数据预处理   | 图像没 `squeeze(0)` 或 `map()` 未生效   | 在 `processor(...).pixel_values.squeeze(0)` 后返回；或在 `with_transform` 显式转 Tensor |\n",
    "| `tokenizer is deprecated`                   | 接口警告     | HuggingFace API 变动                   | 推荐替换：`tokenizer= → processor=processor`（`transformers>=4.40`）   |\n",
    "| `input_ids not in input`                    | collator问题 | 缺字段或结构错误                        | 检查 `collator` 返回是否包含 `pixel_values` 和 `labels`                 |\n",
    "| `Unable to avoid copy while creating np.array` | NumPy 2.0   | `datasets` 转换张量时触发              | 将 `np.array(..., copy=False)` 改为 `np.asarray(...)`；或降级 numpy 到 `<2.0` |"
   ]
  },
  {
   "cell_type": "markdown",
   "id": "9f7bf8ec",
   "metadata": {},
   "source": [
    "| 错误类型                                 | 潜在原因                                                   | 排查与解决方案                                                                 |\n",
    "|------------------------------------------|------------------------------------------------------------|--------------------------------------------------------------------------------|\n",
    "| CUDA out of memory 或资源不足            | 图像太大、batch size 过大、模型太大                        | 调小图像尺寸（如 thumbnail 调成 960x720），或使用更小模型如 donut-base       |\n",
    "| RuntimeError: Expected all tensors to be on the same device | 某些 Tensor 没有 `.to(device)`                            | 检查 `decoder_input_ids`、`pixel_values` 是否都加了 `.to(device)`              |\n",
    "| OSError: Can't load tokenizer            | 依赖项版本不兼容或 Transformers 本地模型加载失败           | 升级 `transformers` 和 `Pillow`，并尝试重新下载模型（清除缓存）              |\n",
    "| tokenizer.decode 出现乱码或无结果       | 模型输出乱码或没加 `skip_special_tokens=True`             | 保持 `skip_special_tokens=True`，并检查输入 prompt 格式是否规范              |\n",
    "| 图像打不开或损坏                         | 非 RGB 图像、路径错误、压缩图片太小                        | 使用 `.convert(\"RGB\")`，并加入图片尺寸判断 `image.size`                      |\n",
    "| generate() 报错或结果为空                | prompt 格式不对、未加 `<s_docvqa>` 或 `<s_answer>` Token   | 使用格式：`\"<s_docvqa>{question}<s_answer>\"`                                 |"
   ]
  },
  {
   "cell_type": "markdown",
   "id": "09b1477b",
   "metadata": {},
   "source": [
    "#### ❌ 推理阶段常见错误"
   ]
  },
  {
   "cell_type": "markdown",
   "id": "f5b32fc8",
   "metadata": {},
   "source": [
    "| 错误信息                        | 原因                                      | 解决方案                                                                 |\n",
    "|-------------------------------|-------------------------------------------|--------------------------------------------------------------------------|\n",
    "| `json.decoder.JSONDecodeError` | 输出非 JSON，缺 `}` 或 `\"` 等              | 使用 `try...except` 包裹 JSON 解析，结合正则修复：如添加结尾括号、补全引号等 |\n",
    "| 输出全为空                      | 输入图像未标准化 / 模型未 fine-tune       | 确保图像 `.convert(\"RGB\")` 并设置 `dpi >= 200`；或检查是否正确加载微调后的 checkpoint |"
   ]
  },
  {
   "cell_type": "markdown",
   "id": "3c89afae",
   "metadata": {},
   "source": [
    "### 【错误一：CPU运行报错】"
   ]
  },
  {
   "cell_type": "markdown",
   "id": "86d370b7",
   "metadata": {},
   "source": [
    "❌ 推論錯誤: xxxx.png, 問題: What is the invoice currency?, 原因: index out of range in self\n",
    "\n",
    "Currency: \n",
    "\n",
    "AmountWithTax: 10\n",
    "\n",
    "AmountWithoutTax: tax\n",
    "\n",
    "Tax: 14:05"
   ]
  },
  {
   "cell_type": "markdown",
   "id": "4406324c",
   "metadata": {},
   "source": [
    "\n",
    "```\n",
    "torch.nn.modules.module.ModuleAttributeError: 'VisionEncoderDecoderModel' object has no attribute 'base_model_prefix'\n",
    "\n",
    "```"
   ]
  },
  {
   "cell_type": "markdown",
   "id": "35da4fda",
   "metadata": {},
   "source": [
    "#### ❓原因分析：\n",
    "\n",
    "该错误发生在调用 model.generate() 时内部处理模型属性时出错。DonutProcessor 是为 DonutModel 设计的，而你加载的是 VisionEncoderDecoderModel，两者不完全兼容。\n",
    "\n",
    "虽然 Hugging Face 让你可以用 DonutProcessor 配合 VisionEncoderDecoderModel，但要确保模型是正确支持的结构。此处出现 base_model_prefix 报错，通常是因为 generate() 在 encoder-decoder 框架中找不到必要的属性。\n"
   ]
  },
  {
   "cell_type": "markdown",
   "id": "62d70237",
   "metadata": {},
   "source": [
    "#### 解决方案："
   ]
  },
  {
   "cell_type": "markdown",
   "id": "bf7bcf65",
   "metadata": {},
   "source": [
    "#### Before"
   ]
  },
  {
   "cell_type": "code",
   "execution_count": null,
   "id": "c1632564",
   "metadata": {},
   "outputs": [],
   "source": [
    "# 載入模型與處理器\n",
    "processor = DonutProcessor.from_pretrained(\"naver-clova-ix/donut-base-finetuned-docvqa\")\n",
    "model = VisionEncoderDecoderModel.from_pretrained(\"naver-clova-ix/donut-base-finetuned-docvqa\").to(device)"
   ]
  },
  {
   "cell_type": "markdown",
   "id": "76333255",
   "metadata": {},
   "source": [
    "### After\n",
    "\n",
    "你应当使用 DonutModel 而不是 VisionEncoderDecoderModel：\n"
   ]
  },
  {
   "cell_type": "code",
   "execution_count": null,
   "id": "faea7d70",
   "metadata": {},
   "outputs": [],
   "source": [
    "from transformers import DonutProcessor, DonutModel\n",
    "\n",
    "processor = DonutProcessor.from_pretrained(\"naver-clova-ix/donut-base-finetuned-docvqa\")\n",
    "model = DonutModel.from_pretrained(\"naver-clova-ix/donut-base-finetuned-docvqa\").to(device) # <-- Fix Here"
   ]
  },
  {
   "cell_type": "markdown",
   "id": "69bd3103",
   "metadata": {},
   "source": [
    "并注意 generate() 的参数也略有不同，推荐改写如下："
   ]
  },
  {
   "cell_type": "markdown",
   "id": "6aa0a4f0",
   "metadata": {},
   "source": [
    "#### Before"
   ]
  },
  {
   "cell_type": "code",
   "execution_count": null,
   "id": "a7d5e4e5",
   "metadata": {},
   "outputs": [],
   "source": [
    "        with torch.no_grad():\n",
    "            pixel_values = processor(image, return_tensors=\"pt\").pixel_values.to(device)\n",
    "            decoder_input_ids = processor.tokenizer(\n",
    "                f\"<s_docvqa>{question}<s_answer>\",\n",
    "                add_special_tokens=False,\n",
    "                return_tensors=\"pt\"\n",
    "            ).input_ids.to(device)\n",
    "\n",
    "            outputs = model.generate(pixel_values, decoder_input_ids=decoder_input_ids, max_length=512) # <-- Fix Here\n",
    "            raw_answer = processor.tokenizer.decode(outputs[0], skip_special_tokens=True)\n",
    "            return extract_answer(raw_answer)"
   ]
  },
  {
   "cell_type": "markdown",
   "id": "4932964c",
   "metadata": {},
   "source": [
    "#### After"
   ]
  },
  {
   "cell_type": "code",
   "execution_count": null,
   "id": "e4caa0f9",
   "metadata": {},
   "outputs": [],
   "source": [
    "task_prompt = f\"<s_docvqa>{question}</s_docvqa>\"\n",
    "decoder_input_ids = processor.tokenizer(task_prompt, add_special_tokens=False, return_tensors=\"pt\").input_ids\n",
    "outputs = model.generate(pixel_values, decoder_input_ids=decoder_input_ids.to(device), max_length=512)"
   ]
  },
  {
   "cell_type": "markdown",
   "id": "af54f662",
   "metadata": {},
   "source": [
    "### 【错误二：GPU运行时报错】\n",
    "\n",
    "AmountWithoutTax: \n",
    "\n",
    "❌ 推論錯誤: xxxx.png, 問題: What is the tax amount?, 原因: CUDA error: device-side assert triggered\n",
    "\n",
    "CUDA kernel errors might be asynchronously reported at some other API call, so the stacktrace below might be incorrect.\n",
    "For debugging consider passing CUDA_LAUNCH_BLOCKING=1\n",
    "\n",
    "Compile with `TORCH_USE_CUDA_DSA` to enable device-side assertions."
   ]
  },
  {
   "cell_type": "code",
   "execution_count": null,
   "id": "5f380817",
   "metadata": {},
   "outputs": [],
   "source": [
    "import os\n",
    "os.environ[\"CUDA_LAUNCH_BLOCKING\"] = \"1\""
   ]
  },
  {
   "cell_type": "markdown",
   "id": "a7afcf36",
   "metadata": {},
   "source": [
    "它会 强制每一个 CUDA 操作同步执行，即：\n",
    "\n",
    "- CUDA 操作（比如张量拷贝、模型计算）必须立即执行完毕，而不是异步执行；\n",
    "- 这样能让你在出错时，准确地知道是哪一行代码出了问题。"
   ]
  },
  {
   "cell_type": "markdown",
   "id": "bcce62ff",
   "metadata": {},
   "source": [
    "```\n",
    "RuntimeError: expected scalar type Half but found Float\n",
    "```"
   ]
  },
  {
   "cell_type": "markdown",
   "id": "708cb3fe",
   "metadata": {},
   "source": [
    "#### ❓原因分析：\n",
    "\n",
    "这是一个常见的类型不一致问题。在 GPU 模式下，某些模型（特别是被混合精度训练过的）会要求 tensor 类型是 torch.float16（也叫 Half），但你传的是 float32。"
   ]
  },
  {
   "cell_type": "markdown",
   "id": "51e1aba2",
   "metadata": {},
   "source": [
    "Half 是一种 标量数据类型（scalar type），表示 16 位浮点数（float16），常用于 GPU 上进行低精度加速计算，尤其是在深度学习中。"
   ]
  },
  {
   "cell_type": "markdown",
   "id": "49b812fe",
   "metadata": {},
   "source": [
    "##### 📌 torch.HalfTensor 或 dtype=torch.float16 在 PyTorch 中的应用："
   ]
  },
  {
   "cell_type": "code",
   "execution_count": null,
   "id": "5f26670b",
   "metadata": {},
   "outputs": [],
   "source": [
    "import torch\n",
    "\n",
    "# 创建 float16 张量\n",
    "x = torch.tensor([1.0, 2.0, 3.0], dtype=torch.float16)\n",
    "print(x.dtype)  # torch.float16"
   ]
  },
  {
   "cell_type": "markdown",
   "id": "926ffa3c",
   "metadata": {},
   "source": [
    "| 类型名称          | 位数  | 精度等级   | 举例             |\n",
    "|-------------------|-------|------------|------------------|\n",
    "| float / float32   | 32位  | 单精度     | 常用默认类型      |\n",
    "| double / float64  | 64位  | 双精度     | 高精度计算用      |\n",
    "| half / float16    | 16位  | 半精度     | 加速模型推理      |\n",
    "| bfloat16          | 16位  | 特殊半精度 | 用于 TPU 上       |"
   ]
  },
  {
   "cell_type": "markdown",
   "id": "2549169c",
   "metadata": {},
   "source": [
    "#### 解决方案"
   ]
  },
  {
   "cell_type": "markdown",
   "id": "2de783e0",
   "metadata": {},
   "source": [
    "你可以让模型和输入都使用 float16："
   ]
  },
  {
   "cell_type": "code",
   "execution_count": null,
   "id": "e439c3da",
   "metadata": {},
   "outputs": [],
   "source": [
    "model = model.half()  # 将模型转为 float16"
   ]
  },
  {
   "cell_type": "markdown",
   "id": "5f0539f0",
   "metadata": {},
   "source": [
    "同时确保图像 **tensor** 也转成 float16"
   ]
  },
  {
   "cell_type": "code",
   "execution_count": null,
   "id": "22678098",
   "metadata": {},
   "outputs": [],
   "source": [
    "pixel_values = processor(image, return_tensors=\"pt\").pixel_values.to(device).half()"
   ]
  },
  {
   "cell_type": "markdown",
   "id": "b551a64b",
   "metadata": {},
   "source": [
    "### 🔶 模型二：LayoutLMv3（OCR + Layout NER 模型）\n",
    "\n",
    "#### ✅ 关键点\n",
    "\n",
    "- 输入包括：\n",
    "- words：OCR token\n",
    "- boxes：坐标（0~1000缩放）\n",
    "- labels：BIO标签\n",
    "- 适合用于位置感知抽取（如金额、发票号）"
   ]
  },
  {
   "cell_type": "markdown",
   "id": "51e19ddf",
   "metadata": {},
   "source": [
    "#### ❌ 常见训练错误与解决方案"
   ]
  },
  {
   "cell_type": "markdown",
   "id": "ffec7f53",
   "metadata": {},
   "source": [
    "| 错误信息                             | 错误类型     | 可能原因                          | 解决方案                                                                 |\n",
    "|--------------------------------------|--------------|-----------------------------------|--------------------------------------------------------------------------|\n",
    "| `words or boxes not found`           | 数据不合规   | Dataset 中缺字段                  | 确保每条样本都包含 `words`、`boxes`、`labels` 字段                        |\n",
    "| `AssertionError: len(words) != len(boxes)` | OCR错位     | OCR 提取的文本顺序与 box 不一致   | 使用 PaddleOCR 的结构化输出或使用统一 OCR 工具保证顺序一致              |\n",
    "| `Model training stuck`               | 无梯度变化   | 所有标签都是 O                    | 确保部分样本中有非 O 标签，如 `B-InvoiceNo` 等                           |\n",
    "| `CUDA out of memory`                 | 显存不足     | batch_size 太大或图像分辨率太高  | 减小 `batch_size`，限制图像大小为 `224x224` 或 `384x384`                |"
   ]
  },
  {
   "cell_type": "markdown",
   "id": "fc69618a",
   "metadata": {},
   "source": [
    "#### ❌ 推理问题与建议"
   ]
  },
  {
   "cell_type": "markdown",
   "id": "178092e1",
   "metadata": {},
   "source": [
    "| 问题                     | 原因                         | 建议                                                                 |\n",
    "|--------------------------|------------------------------|----------------------------------------------------------------------|\n",
    "| 发票字段提取不全         | 标签缺失 / 标注不一致        | 使用 [Label Studio](https://labelstud.io/) 标注实体范围，保持格式统一 |\n",
    "| 英文字段准确率高、中文差 | 模型预训练语料不均            | 使用中英文混合数据进行微调，或选用 `layoutlmv3-chinese-base` 等模型  |"
   ]
  },
  {
   "cell_type": "markdown",
   "id": "5de24a86",
   "metadata": {},
   "source": [
    "### 🔶 模型三：OCR + 正则 / Prompt 模型（MiniCPM, ChatGLM等）\n",
    "\n",
    "#### ✅ 使用场景\n",
    "- 无 GPU 或只需少量样本\n",
    "- 发票样式可归类、具语义结构\n",
    "- 与大模型结合，适合 prompt-based 抽取"
   ]
  },
  {
   "cell_type": "markdown",
   "id": "f6193774",
   "metadata": {},
   "source": [
    "#### ❌ OCR常见问题"
   ]
  },
  {
   "cell_type": "markdown",
   "id": "295680ad",
   "metadata": {},
   "source": [
    "### 🧩 发票识别常见问题分析（三）\n",
    "\n",
    "| 问题         | 原因                     | 解决方案                                                                 |\n",
    "|--------------|--------------------------|--------------------------------------------------------------------------|\n",
    "| 字体识别错位 | DPI 过低 / 图像噪声     | 转图像时设置 `dpi=200~300`，建议使用 `pdf2image` 替代 `fitz` 提高清晰度 |\n",
    "| 字段分行错   | 多栏位内容混在一起       | 使用 `structure=True`（如 PaddleOCR）输出多段块，并按 `bbox` 排序        |\n",
    "| 日期字段错   | “年 月 日” 结构变化大   | 用正则表达式提取，例如：`r\"\\d{4}年\\d{1,2}月\\d{1,2}日\"` 或规则模板匹配     |"
   ]
  },
  {
   "cell_type": "markdown",
   "id": "ba01a2b2",
   "metadata": {},
   "source": [
    "#### ❌ 正则 + Prompt 模型错误"
   ]
  },
  {
   "cell_type": "markdown",
   "id": "2d0b5d4d",
   "metadata": {},
   "source": [
    "| 错误类型         | 原因             | 解决方法                                 |\n",
    "|------------------|------------------|------------------------------------------|\n",
    "| 正则无法匹配     | 格式差异大       | 用 re.findall() 加多个模板方案（模糊匹配） |\n",
    "| Prompt 模型不稳定 | 输入换行/空格混乱 | 使用 textwrap.dedent 预处理文本           |\n",
    "| 输出非结构化 JSON | 模型自由回答不受控 | 加入强制约束 Prompt：如 “请用 JSON 格式回答以下问题…” |"
   ]
  }
 ],
 "metadata": {
  "kernelspec": {
   "display_name": "base",
   "language": "python",
   "name": "python3"
  },
  "language_info": {
   "codemirror_mode": {
    "name": "ipython",
    "version": 3
   },
   "file_extension": ".py",
   "mimetype": "text/x-python",
   "name": "python",
   "nbconvert_exporter": "python",
   "pygments_lexer": "ipython3",
   "version": "3.11.11"
  }
 },
 "nbformat": 4,
 "nbformat_minor": 5
}
